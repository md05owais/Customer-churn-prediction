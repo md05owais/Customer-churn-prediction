{
 "cells": [
  {
   "cell_type": "code",
   "execution_count": 1,
   "metadata": {},
   "outputs": [],
   "source": [
    "import pandas as pd\n",
    "import numpy as np"
   ]
  },
  {
   "cell_type": "code",
   "execution_count": 2,
   "metadata": {},
   "outputs": [
    {
     "data": {
      "text/html": [
       "\n",
       "            <div>\n",
       "                <p><b>SparkSession - in-memory</b></p>\n",
       "                \n",
       "        <div>\n",
       "            <p><b>SparkContext</b></p>\n",
       "\n",
       "            <p><a href=\"http://HVTNDAL1040.HEXAVIEWNET.LOCAL:4041\">Spark UI</a></p>\n",
       "\n",
       "            <dl>\n",
       "              <dt>Version</dt>\n",
       "                <dd><code>v3.3.1</code></dd>\n",
       "              <dt>Master</dt>\n",
       "                <dd><code>local[*]</code></dd>\n",
       "              <dt>AppName</dt>\n",
       "                <dd><code>Customer churn prediction</code></dd>\n",
       "            </dl>\n",
       "        </div>\n",
       "        \n",
       "            </div>\n",
       "        "
      ],
      "text/plain": [
       "<pyspark.sql.session.SparkSession at 0x1a60f2951c0>"
      ]
     },
     "execution_count": 2,
     "metadata": {},
     "output_type": "execute_result"
    }
   ],
   "source": [
    "from pyspark.sql import SparkSession\n",
    "spark = SparkSession.builder.appName('Customer churn prediction').getOrCreate()\n",
    "spark"
   ]
  },
  {
   "cell_type": "code",
   "execution_count": 3,
   "metadata": {},
   "outputs": [],
   "source": [
    "df = spark.read.csv('C:/Users/md.owais/Desktop/Customer Chun Prediction/data/test_churn.csv', inferSchema=True, header=True)"
   ]
  },
  {
   "cell_type": "code",
   "execution_count": 4,
   "metadata": {},
   "outputs": [
    {
     "name": "stdout",
     "output_type": "stream",
     "text": [
      "+---+-----+--------------+-------------+------------------+---------------+---------------------+-----------------+---------------+----------------+-----------------+---------------+----------------+-------------------+-----------------+------------------+------------------+----------------+-----------------+-----------------------------+\n",
      "| id|state|account_length|    area_code|international_plan|voice_mail_plan|number_vmail_messages|total_day_minutes|total_day_calls|total_day_charge|total_eve_minutes|total_eve_calls|total_eve_charge|total_night_minutes|total_night_calls|total_night_charge|total_intl_minutes|total_intl_calls|total_intl_charge|number_customer_service_calls|\n",
      "+---+-----+--------------+-------------+------------------+---------------+---------------------+-----------------+---------------+----------------+-----------------+---------------+----------------+-------------------+-----------------+------------------+------------------+----------------+-----------------+-----------------------------+\n",
      "|  1|   KS|           128|area_code_415|                no|            yes|                   25|            265.1|            110|           45.07|            197.4|             99|           16.78|              244.7|               91|             11.01|              10.0|               3|              2.7|                            1|\n",
      "|  2|   AL|           118|area_code_510|               yes|             no|                    0|            223.4|             98|           37.98|            220.6|            101|           18.75|              203.9|              118|              9.18|               6.3|               6|              1.7|                            0|\n",
      "|  3|   IA|            62|area_code_415|                no|             no|                    0|            120.7|             70|           20.52|            307.2|             76|           26.11|              203.0|               99|              9.14|              13.1|               6|             3.54|                            4|\n",
      "|  4|   VT|            93|area_code_510|                no|             no|                    0|            190.7|            114|           32.42|            218.2|            111|           18.55|              129.6|              121|              5.83|               8.1|               3|             2.19|                            3|\n",
      "|  5|   NE|           174|area_code_415|                no|             no|                    0|            124.3|             76|           21.13|            277.1|            112|           23.55|              250.7|              115|             11.28|              15.5|               5|             4.19|                            3|\n",
      "|  6|   IL|           142|area_code_415|                no|             no|                    0|             84.8|             95|           14.42|            136.7|             63|           11.62|              250.5|              148|             11.27|              14.2|               6|             3.83|                            2|\n",
      "|  7|   LA|           172|area_code_408|                no|             no|                    0|            212.0|            121|           36.04|             31.2|            115|            2.65|              293.3|               78|              13.2|              12.6|              10|              3.4|                            3|\n",
      "|  8|   GA|            72|area_code_415|                no|            yes|                   37|            220.0|             80|            37.4|            217.3|            102|           18.47|              152.8|               71|              6.88|              14.7|               6|             3.97|                            3|\n",
      "|  9|   NJ|           149|area_code_408|                no|             no|                    0|            140.4|             94|           23.87|            271.8|             92|            23.1|              188.3|              108|              8.47|              11.1|               9|              3.0|                            1|\n",
      "| 10|   ID|           119|area_code_415|                no|             no|                    0|            159.1|            114|           27.05|            231.3|            117|           19.66|              143.2|               91|              6.44|               8.8|               3|             2.38|                            5|\n",
      "| 11|   WY|            87|area_code_415|                no|             no|                    0|            151.0|             83|           25.67|            219.7|            116|           18.67|              203.9|              127|              9.18|               9.7|               3|             2.62|                            5|\n",
      "| 12|   WI|            68|area_code_415|                no|             no|                    0|            148.8|             70|            25.3|            246.5|            164|           20.95|              129.8|              103|              5.84|              12.1|               3|             3.27|                            3|\n",
      "| 13|   MN|            74|area_code_510|                no|            yes|                   33|            193.7|             91|           32.93|            246.1|             96|           20.92|              138.0|               92|              6.21|              14.6|               3|             3.94|                            2|\n",
      "| 14|   CO|            55|area_code_408|                no|            yes|                   25|            165.6|            123|           28.15|            136.1|             95|           11.57|              175.7|               90|              7.91|              11.0|               2|             2.97|                            3|\n",
      "| 15|   TX|           106|area_code_510|                no|             no|                    0|            210.6|             96|            35.8|            249.2|             85|           21.18|              191.4|               88|              8.61|              12.4|               1|             3.35|                            2|\n",
      "| 16|   AK|           104|area_code_408|                no|             no|                    0|            278.4|            106|           47.33|             81.0|            113|            6.89|              163.2|              137|              7.34|               9.8|               5|             2.65|                            1|\n",
      "| 17|   VT|           135|area_code_415|                no|             no|                    0|            151.7|             82|           25.79|            119.0|            105|           10.12|              180.0|              100|               8.1|              10.5|               6|             2.84|                            0|\n",
      "| 18|   CO|           141|area_code_415|                no|            yes|                   32|            148.6|             91|           25.26|            131.1|             97|           11.14|              219.4|              142|              9.87|              10.1|               1|             2.73|                            1|\n",
      "| 19|   MA|           103|area_code_415|                no|             no|                    0|            185.0|            117|           31.45|            223.3|             94|           18.98|              222.8|               91|             10.03|              12.6|               2|              3.4|                            2|\n",
      "| 20|   MO|           112|area_code_510|                no|            yes|                   36|            113.7|            117|           19.33|            157.5|             82|           13.39|              177.6|              118|              7.99|              10.0|               3|              2.7|                            2|\n",
      "+---+-----+--------------+-------------+------------------+---------------+---------------------+-----------------+---------------+----------------+-----------------+---------------+----------------+-------------------+-----------------+------------------+------------------+----------------+-----------------+-----------------------------+\n",
      "only showing top 20 rows\n",
      "\n"
     ]
    }
   ],
   "source": [
    "df.show()"
   ]
  },
  {
   "attachments": {},
   "cell_type": "markdown",
   "metadata": {},
   "source": [
    "Shape"
   ]
  },
  {
   "cell_type": "code",
   "execution_count": 5,
   "metadata": {},
   "outputs": [
    {
     "data": {
      "text/plain": [
       "(750, 20)"
      ]
     },
     "execution_count": 5,
     "metadata": {},
     "output_type": "execute_result"
    }
   ],
   "source": [
    "shape = df.count(), len(df.columns)\n",
    "shape"
   ]
  },
  {
   "attachments": {},
   "cell_type": "markdown",
   "metadata": {},
   "source": [
    "Mising Values Analysis"
   ]
  },
  {
   "cell_type": "code",
   "execution_count": 6,
   "metadata": {},
   "outputs": [
    {
     "name": "stdout",
     "output_type": "stream",
     "text": [
      "+---+-----+--------------+---------+------------------+---------------+---------------------+-----------------+---------------+----------------+-----------------+---------------+----------------+-------------------+-----------------+------------------+------------------+----------------+-----------------+-----------------------------+\n",
      "| id|state|account_length|area_code|international_plan|voice_mail_plan|number_vmail_messages|total_day_minutes|total_day_calls|total_day_charge|total_eve_minutes|total_eve_calls|total_eve_charge|total_night_minutes|total_night_calls|total_night_charge|total_intl_minutes|total_intl_calls|total_intl_charge|number_customer_service_calls|\n",
      "+---+-----+--------------+---------+------------------+---------------+---------------------+-----------------+---------------+----------------+-----------------+---------------+----------------+-------------------+-----------------+------------------+------------------+----------------+-----------------+-----------------------------+\n",
      "|  0|    0|             0|        0|                 0|              0|                    0|                0|              0|               0|                0|              0|               0|                  0|                0|                 0|                 0|               0|                0|                            0|\n",
      "+---+-----+--------------+---------+------------------+---------------+---------------------+-----------------+---------------+----------------+-----------------+---------------+----------------+-------------------+-----------------+------------------+------------------+----------------+-----------------+-----------------------------+\n",
      "\n"
     ]
    }
   ],
   "source": [
    "from pyspark.sql.functions import isnan, count, when, col, expr, substring\n",
    "total_col = df.columns\n",
    "df.select([count(when( col(c).contains('NA') | col(c).contains('None') \\\n",
    "                      | (col(c) == \"NaN\") | (col(c) == '') | (col(c) == 'NULL')\\\n",
    "                      | col(c).isNull() | isnan(c) ,c)).alias(c) for c in total_col]).show()"
   ]
  },
  {
   "attachments": {},
   "cell_type": "markdown",
   "metadata": {},
   "source": [
    "Duplicates Records analysis"
   ]
  },
  {
   "cell_type": "code",
   "execution_count": 7,
   "metadata": {},
   "outputs": [
    {
     "data": {
      "text/plain": [
       "(750, 750)"
      ]
     },
     "execution_count": 7,
     "metadata": {},
     "output_type": "execute_result"
    }
   ],
   "source": [
    "df.count(), df.distinct().count()"
   ]
  },
  {
   "attachments": {},
   "cell_type": "markdown",
   "metadata": {},
   "source": [
    "EDA"
   ]
  },
  {
   "cell_type": "code",
   "execution_count": 8,
   "metadata": {},
   "outputs": [],
   "source": [
    "# 1. Remove area_code_ from area_code column\n",
    "# Remove id column\n"
   ]
  },
  {
   "cell_type": "code",
   "execution_count": 9,
   "metadata": {},
   "outputs": [],
   "source": [
    "df=df.drop('id')"
   ]
  },
  {
   "cell_type": "code",
   "execution_count": null,
   "metadata": {},
   "outputs": [],
   "source": []
  }
 ],
 "metadata": {
  "kernelspec": {
   "display_name": "base",
   "language": "python",
   "name": "python3"
  },
  "language_info": {
   "codemirror_mode": {
    "name": "ipython",
    "version": 3
   },
   "file_extension": ".py",
   "mimetype": "text/x-python",
   "name": "python",
   "nbconvert_exporter": "python",
   "pygments_lexer": "ipython3",
   "version": "3.9.12"
  },
  "orig_nbformat": 4,
  "vscode": {
   "interpreter": {
    "hash": "1dee763eb56ede3c31af2cb96c54600f0b1d028e63545cfc30eff126b0b15a87"
   }
  }
 },
 "nbformat": 4,
 "nbformat_minor": 2
}
